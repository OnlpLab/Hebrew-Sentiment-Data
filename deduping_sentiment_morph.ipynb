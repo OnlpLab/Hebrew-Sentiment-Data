{
 "cells": [
  {
   "cell_type": "code",
   "execution_count": 1,
   "metadata": {},
   "outputs": [],
   "source": [
    "from difflib import SequenceMatcher\n",
    "import pandas as pd\n",
    "import numpy as np\n",
    "from tqdm import tqdm\n",
    "from fuzzywuzzy import fuzz\n",
    "import os"
   ]
  },
  {
   "cell_type": "code",
   "execution_count": 2,
   "metadata": {
    "pycharm": {
     "name": "#%%\n"
    }
   },
   "outputs": [],
   "source": [
    "data_format  = 'morph'\n",
    "\n",
    "train_df = pd.read_csv(f'originial_unclean_data/{data_format}/train.tsv', sep='\\t')\n",
    "test_df = pd.read_csv(f'originial_unclean_data/{data_format}/test_gold.tsv', sep='\\t')\n",
    "dev_df = pd.read_csv(f'originial_unclean_data/{data_format}/dev.tsv', sep='\\t')\n"
   ]
  },
  {
   "cell_type": "code",
   "execution_count": 3,
   "metadata": {},
   "outputs": [],
   "source": [
    "train_df = train_df.reset_index()\n",
    "test_df = test_df.reset_index()\n",
    "dev_df = dev_df.reset_index() "
   ]
  },
  {
   "cell_type": "code",
   "execution_count": 4,
   "metadata": {},
   "outputs": [],
   "source": [
    "train_df['type'] = 'train'\n",
    "test_df['type'] = 'test'\n",
    "dev_df['type'] = 'dev'"
   ]
  },
  {
   "cell_type": "code",
   "execution_count": 5,
   "metadata": {},
   "outputs": [],
   "source": [
    "assert len(dev_df[dev_df['sentence'].str.contains(\"\\t\")]) == 0"
   ]
  },
  {
   "cell_type": "code",
   "execution_count": 6,
   "metadata": {},
   "outputs": [
    {
     "data": {
      "text/html": [
       "<div>\n",
       "<style scoped>\n",
       "    .dataframe tbody tr th:only-of-type {\n",
       "        vertical-align: middle;\n",
       "    }\n",
       "\n",
       "    .dataframe tbody tr th {\n",
       "        vertical-align: top;\n",
       "    }\n",
       "\n",
       "    .dataframe thead th {\n",
       "        text-align: right;\n",
       "    }\n",
       "</style>\n",
       "<table border=\"1\" class=\"dataframe\">\n",
       "  <thead>\n",
       "    <tr style=\"text-align: right;\">\n",
       "      <th></th>\n",
       "      <th>index</th>\n",
       "      <th>sentence</th>\n",
       "      <th>label</th>\n",
       "      <th>type</th>\n",
       "    </tr>\n",
       "  </thead>\n",
       "  <tbody>\n",
       "    <tr>\n",
       "      <th>0</th>\n",
       "      <td>0</td>\n",
       "      <td>ממש כואב ..... אני בכה את היא עם ה משפחה ש לא ...</td>\n",
       "      <td>0</td>\n",
       "      <td>train</td>\n",
       "    </tr>\n",
       "    <tr>\n",
       "      <th>1</th>\n",
       "      <td>1</td>\n",
       "      <td>איש יקר של אנחנו</td>\n",
       "      <td>0</td>\n",
       "      <td>train</td>\n",
       "    </tr>\n",
       "    <tr>\n",
       "      <th>2</th>\n",
       "      <td>2</td>\n",
       "      <td>כל ה כבוד ו המון ב הצלחה</td>\n",
       "      <td>0</td>\n",
       "      <td>train</td>\n",
       "    </tr>\n",
       "    <tr>\n",
       "      <th>3</th>\n",
       "      <td>3</td>\n",
       "      <td>תל חי , רובי . ב כל ה עצב ה זה היית קרן אור ש...</td>\n",
       "      <td>0</td>\n",
       "      <td>train</td>\n",
       "    </tr>\n",
       "    <tr>\n",
       "      <th>4</th>\n",
       "      <td>4</td>\n",
       "      <td>נקי כפיים ו בר לבב ב הצלחה ל אתה ו ל אנחנו .</td>\n",
       "      <td>0</td>\n",
       "      <td>train</td>\n",
       "    </tr>\n",
       "    <tr>\n",
       "      <th>...</th>\n",
       "      <td>...</td>\n",
       "      <td>...</td>\n",
       "      <td>...</td>\n",
       "      <td>...</td>\n",
       "    </tr>\n",
       "    <tr>\n",
       "      <th>9215</th>\n",
       "      <td>9215</td>\n",
       "      <td>ל מדינת ישראל יש נשיא סוף סוף</td>\n",
       "      <td>0</td>\n",
       "      <td>train</td>\n",
       "    </tr>\n",
       "    <tr>\n",
       "      <th>9216</th>\n",
       "      <td>9216</td>\n",
       "      <td>יישר כח , אדוני ה נשיא &lt; 3</td>\n",
       "      <td>0</td>\n",
       "      <td>train</td>\n",
       "    </tr>\n",
       "    <tr>\n",
       "      <th>9217</th>\n",
       "      <td>9217</td>\n",
       "      <td>איזה כיף , ב הצלחה איש יקר</td>\n",
       "      <td>0</td>\n",
       "      <td>train</td>\n",
       "    </tr>\n",
       "    <tr>\n",
       "      <th>9218</th>\n",
       "      <td>9218</td>\n",
       "      <td>אין מועמד ראוי מ מך.בהצלחה !!</td>\n",
       "      <td>0</td>\n",
       "      <td>train</td>\n",
       "    </tr>\n",
       "    <tr>\n",
       "      <th>9220</th>\n",
       "      <td>9220</td>\n",
       "      <td>יישר כח ! אכן נבחר ה מועמד ה מתאים ביותר ל ה ...</td>\n",
       "      <td>0</td>\n",
       "      <td>train</td>\n",
       "    </tr>\n",
       "  </tbody>\n",
       "</table>\n",
       "<p>6953 rows × 4 columns</p>\n",
       "</div>"
      ],
      "text/plain": [
       "      index                                           sentence  label   type\n",
       "0         0  ממש כואב ..... אני בכה את היא עם ה משפחה ש לא ...      0  train\n",
       "1         1                                   איש יקר של אנחנו      0  train\n",
       "2         2                           כל ה כבוד ו המון ב הצלחה      0  train\n",
       "3         3   תל חי , רובי . ב כל ה עצב ה זה היית קרן אור ש...      0  train\n",
       "4         4       נקי כפיים ו בר לבב ב הצלחה ל אתה ו ל אנחנו .      0  train\n",
       "...     ...                                                ...    ...    ...\n",
       "9215   9215                      ל מדינת ישראל יש נשיא סוף סוף      0  train\n",
       "9216   9216                        יישר כח , אדוני ה נשיא < 3       0  train\n",
       "9217   9217                        איזה כיף , ב הצלחה איש יקר       0  train\n",
       "9218   9218                      אין מועמד ראוי מ מך.בהצלחה !!      0  train\n",
       "9220   9220   יישר כח ! אכן נבחר ה מועמד ה מתאים ביותר ל ה ...      0  train\n",
       "\n",
       "[6953 rows x 4 columns]"
      ]
     },
     "execution_count": 6,
     "metadata": {},
     "output_type": "execute_result"
    }
   ],
   "source": [
    "train_df.drop_duplicates(subset=['sentence'])"
   ]
  },
  {
   "cell_type": "code",
   "execution_count": 7,
   "metadata": {},
   "outputs": [],
   "source": [
    "dfs = [train_df, test_df, dev_df]\n",
    "dedup_df = []"
   ]
  },
  {
   "cell_type": "code",
   "execution_count": 8,
   "metadata": {
    "pycharm": {
     "name": "#%%\n"
    }
   },
   "outputs": [
    {
     "name": "stdout",
     "output_type": "stream",
     "text": [
      "Before dedup train_sen: 9221\n",
      "After dedup train_sen: 6953\n",
      "Dedupd train_sen: 2268\n",
      "Precentage: train_sen: 24.60%\n",
      "Before dedup dev_sen: 2560\n",
      "After dedup dev_sen: 2367\n",
      "Dedupd dev_sen: 193\n",
      "Precentage: dev_sen: 7.54%\n",
      "Before dedup test_sen: 1023\n",
      "After dedup test_sen: 984\n",
      "Dedupd test_sen: 39\n",
      "Precentage: test_sen: 3.81%\n"
     ]
    }
   ],
   "source": [
    "for name, d in zip([\"train_sen\", \"dev_sen\", \"test_sen\"], dfs):\n",
    "    d_dedup = d.drop_duplicates(subset=['sentence'])\n",
    "    print(f\"Before dedup {name}:\", len(d))\n",
    "    print(f\"After dedup {name}:\", len(d_dedup))\n",
    "    print(f\"Dedupd {name}:\", len(d) - len(d_dedup))\n",
    "    print(f\"Precentage: {name}: {((len(d) - len(d_dedup)) / len(d)) * 100:.2f}%\")\n",
    "    dedup_df.append(d_dedup)"
   ]
  },
  {
   "cell_type": "code",
   "execution_count": 9,
   "metadata": {
    "pycharm": {
     "name": "#%%\n"
    }
   },
   "outputs": [],
   "source": [
    "all_dedup = pd.concat(dedup_df)\n",
    "final = all_dedup.drop_duplicates(subset=['sentence'])"
   ]
  },
  {
   "cell_type": "code",
   "execution_count": 10,
   "metadata": {},
   "outputs": [
    {
     "data": {
      "text/html": [
       "<div>\n",
       "<style scoped>\n",
       "    .dataframe tbody tr th:only-of-type {\n",
       "        vertical-align: middle;\n",
       "    }\n",
       "\n",
       "    .dataframe tbody tr th {\n",
       "        vertical-align: top;\n",
       "    }\n",
       "\n",
       "    .dataframe thead th {\n",
       "        text-align: right;\n",
       "    }\n",
       "</style>\n",
       "<table border=\"1\" class=\"dataframe\">\n",
       "  <thead>\n",
       "    <tr style=\"text-align: right;\">\n",
       "      <th></th>\n",
       "      <th>index</th>\n",
       "      <th>sentence</th>\n",
       "      <th>label</th>\n",
       "      <th>type</th>\n",
       "    </tr>\n",
       "  </thead>\n",
       "  <tbody>\n",
       "    <tr>\n",
       "      <th>0</th>\n",
       "      <td>0</td>\n",
       "      <td>ממש כואב ..... אני בכה את היא עם ה משפחה ש לא ...</td>\n",
       "      <td>0</td>\n",
       "      <td>train</td>\n",
       "    </tr>\n",
       "    <tr>\n",
       "      <th>1</th>\n",
       "      <td>1</td>\n",
       "      <td>איש יקר של אנחנו</td>\n",
       "      <td>0</td>\n",
       "      <td>train</td>\n",
       "    </tr>\n",
       "    <tr>\n",
       "      <th>2</th>\n",
       "      <td>2</td>\n",
       "      <td>כל ה כבוד ו המון ב הצלחה</td>\n",
       "      <td>0</td>\n",
       "      <td>train</td>\n",
       "    </tr>\n",
       "    <tr>\n",
       "      <th>3</th>\n",
       "      <td>3</td>\n",
       "      <td>תל חי , רובי . ב כל ה עצב ה זה היית קרן אור ש...</td>\n",
       "      <td>0</td>\n",
       "      <td>train</td>\n",
       "    </tr>\n",
       "    <tr>\n",
       "      <th>4</th>\n",
       "      <td>4</td>\n",
       "      <td>נקי כפיים ו בר לבב ב הצלחה ל אתה ו ל אנחנו .</td>\n",
       "      <td>0</td>\n",
       "      <td>train</td>\n",
       "    </tr>\n",
       "    <tr>\n",
       "      <th>...</th>\n",
       "      <td>...</td>\n",
       "      <td>...</td>\n",
       "      <td>...</td>\n",
       "      <td>...</td>\n",
       "    </tr>\n",
       "    <tr>\n",
       "      <th>1004</th>\n",
       "      <td>1004</td>\n",
       "      <td>ב הצלחה רבה מגיע ל הוא</td>\n",
       "      <td>0</td>\n",
       "      <td>dev</td>\n",
       "    </tr>\n",
       "    <tr>\n",
       "      <th>1012</th>\n",
       "      <td>1012</td>\n",
       "      <td>מ \"ס 1 מגיע ל אתה להיות ה נשיא של אנחנו</td>\n",
       "      <td>0</td>\n",
       "      <td>dev</td>\n",
       "    </tr>\n",
       "    <tr>\n",
       "      <th>1013</th>\n",
       "      <td>1013</td>\n",
       "      <td>שבת שלום ל נשיא עם הכי הרבה קונצנזוס : ) ב הצל...</td>\n",
       "      <td>0</td>\n",
       "      <td>dev</td>\n",
       "    </tr>\n",
       "    <tr>\n",
       "      <th>1015</th>\n",
       "      <td>1015</td>\n",
       "      <td>גם ל אתם שבת שלום ו מבורכת ל אתם</td>\n",
       "      <td>0</td>\n",
       "      <td>dev</td>\n",
       "    </tr>\n",
       "    <tr>\n",
       "      <th>1016</th>\n",
       "      <td>1016</td>\n",
       "      <td>ברכות חמות כבוד ה נשיא ! Hadar Segal</td>\n",
       "      <td>0</td>\n",
       "      <td>dev</td>\n",
       "    </tr>\n",
       "  </tbody>\n",
       "</table>\n",
       "<p>8623 rows × 4 columns</p>\n",
       "</div>"
      ],
      "text/plain": [
       "      index                                           sentence  label   type\n",
       "0         0  ממש כואב ..... אני בכה את היא עם ה משפחה ש לא ...      0  train\n",
       "1         1                                   איש יקר של אנחנו      0  train\n",
       "2         2                           כל ה כבוד ו המון ב הצלחה      0  train\n",
       "3         3   תל חי , רובי . ב כל ה עצב ה זה היית קרן אור ש...      0  train\n",
       "4         4       נקי כפיים ו בר לבב ב הצלחה ל אתה ו ל אנחנו .      0  train\n",
       "...     ...                                                ...    ...    ...\n",
       "1004   1004                             ב הצלחה רבה מגיע ל הוא      0    dev\n",
       "1012   1012           מ \"ס 1 מגיע ל אתה להיות ה נשיא של אנחנו       0    dev\n",
       "1013   1013  שבת שלום ל נשיא עם הכי הרבה קונצנזוס : ) ב הצל...      0    dev\n",
       "1015   1015                   גם ל אתם שבת שלום ו מבורכת ל אתם      0    dev\n",
       "1016   1016               ברכות חמות כבוד ה נשיא ! Hadar Segal      0    dev\n",
       "\n",
       "[8623 rows x 4 columns]"
      ]
     },
     "execution_count": 10,
     "metadata": {},
     "output_type": "execute_result"
    }
   ],
   "source": [
    "final"
   ]
  },
  {
   "cell_type": "code",
   "execution_count": 11,
   "metadata": {},
   "outputs": [
    {
     "name": "stderr",
     "output_type": "stream",
     "text": [
      "<ipython-input-11-2f2a6f3b8bae>:1: SettingWithCopyWarning: \n",
      "A value is trying to be set on a copy of a slice from a DataFrame.\n",
      "Try using .loc[row_indexer,col_indexer] = value instead\n",
      "\n",
      "See the caveats in the documentation: https://pandas.pydata.org/pandas-docs/stable/user_guide/indexing.html#returning-a-view-versus-a-copy\n",
      "  final['sentence'] = final['sentence'].apply(lambda x: x.strip(\"\\\"\"))\n"
     ]
    }
   ],
   "source": [
    "final['sentence'] = final['sentence'].apply(lambda x: x.strip(\"\\\"\"))"
   ]
  },
  {
   "cell_type": "code",
   "execution_count": 12,
   "metadata": {
    "pycharm": {
     "name": "#%%\n"
    }
   },
   "outputs": [],
   "source": [
    "to_dedup = list(zip(final['sentence'], final['label'], final['index'],final['type'] ))"
   ]
  },
  {
   "cell_type": "code",
   "execution_count": 13,
   "metadata": {
    "pycharm": {
     "name": "#%%\n"
    }
   },
   "outputs": [
    {
     "name": "stderr",
     "output_type": "stream",
     "text": [
      "8623it [36:14,  3.96it/s]\n"
     ]
    }
   ],
   "source": [
    "unique_comment = set()\n",
    "similarity_group = {}\n",
    "groups = {}\n",
    "last_group = 0\n",
    "for i, t1 in tqdm(enumerate(to_dedup)):\n",
    "    unique = True\n",
    "    for j, t2 in enumerate(to_dedup):\n",
    "        if abs(len(t1[0]) - len(t2[0])) > 5 or  t2 in unique_comment or t1==t2 or t2 in groups:\n",
    "            continue\n",
    "        if len(t1[0]) < 7 and len(t2[0]) < 7:\n",
    "            is_similar =  t1[0].strip('!,.? ') == t2[0].strip('!,.? ')\n",
    "        else:\n",
    "            try:\n",
    "                is_similar = fuzz.partial_ratio(t1[0], t2[0]) > 95\n",
    "            except ValueError:\n",
    "                is_similar = SequenceMatcher(None, t1[0], t2[0]).ratio() > 0.95\n",
    "        if is_similar:\n",
    "            unique = False\n",
    "            if t1 in groups:\n",
    "                similarity_group[groups[t1]].append(t2)\n",
    "                groups[t2] = groups[t1]\n",
    "            else:\n",
    "                groups[t1] = last_group\n",
    "                groups[t2] = last_group\n",
    "                similarity_group[last_group] = [t1, t2]\n",
    "                last_group +=1\n",
    "    if unique:\n",
    "        unique_comment.add(t1)"
   ]
  },
  {
   "cell_type": "code",
   "execution_count": 14,
   "metadata": {
    "pycharm": {
     "name": "#%%\n"
    }
   },
   "outputs": [],
   "source": [
    "result = [{'comment': comment, 'label': label, 'index': index, 'type': set_type} for comment, label, index, set_type in unique_comment]"
   ]
  },
  {
   "cell_type": "code",
   "execution_count": 15,
   "metadata": {
    "pycharm": {
     "name": "#%%\n"
    }
   },
   "outputs": [],
   "source": [
    "res_dedup = pd.DataFrame(result)"
   ]
  },
  {
   "cell_type": "code",
   "execution_count": 16,
   "metadata": {},
   "outputs": [
    {
     "data": {
      "text/html": [
       "<div>\n",
       "<style scoped>\n",
       "    .dataframe tbody tr th:only-of-type {\n",
       "        vertical-align: middle;\n",
       "    }\n",
       "\n",
       "    .dataframe tbody tr th {\n",
       "        vertical-align: top;\n",
       "    }\n",
       "\n",
       "    .dataframe thead th {\n",
       "        text-align: right;\n",
       "    }\n",
       "</style>\n",
       "<table border=\"1\" class=\"dataframe\">\n",
       "  <thead>\n",
       "    <tr style=\"text-align: right;\">\n",
       "      <th></th>\n",
       "      <th>comment</th>\n",
       "      <th>label</th>\n",
       "      <th>index</th>\n",
       "      <th>type</th>\n",
       "    </tr>\n",
       "  </thead>\n",
       "  <tbody>\n",
       "    <tr>\n",
       "      <th>2602</th>\n",
       "      <td>ממש כואב ..... אני בכה את היא עם ה משפחה ש לא ...</td>\n",
       "      <td>0</td>\n",
       "      <td>0</td>\n",
       "      <td>0</td>\n",
       "    </tr>\n",
       "    <tr>\n",
       "      <th>4787</th>\n",
       "      <td>איש יקר של אנחנו</td>\n",
       "      <td>0</td>\n",
       "      <td>1</td>\n",
       "      <td>0</td>\n",
       "    </tr>\n",
       "    <tr>\n",
       "      <th>3095</th>\n",
       "      <td>כל ה כבוד ו המון ב הצלחה</td>\n",
       "      <td>0</td>\n",
       "      <td>2</td>\n",
       "      <td>0</td>\n",
       "    </tr>\n",
       "    <tr>\n",
       "      <th>3093</th>\n",
       "      <td>תל חי , רובי . ב כל ה עצב ה זה היית קרן אור ש...</td>\n",
       "      <td>0</td>\n",
       "      <td>3</td>\n",
       "      <td>0</td>\n",
       "    </tr>\n",
       "    <tr>\n",
       "      <th>2579</th>\n",
       "      <td>נקי כפיים ו בר לבב ב הצלחה ל אתה ו ל אנחנו .</td>\n",
       "      <td>0</td>\n",
       "      <td>4</td>\n",
       "      <td>0</td>\n",
       "    </tr>\n",
       "    <tr>\n",
       "      <th>...</th>\n",
       "      <td>...</td>\n",
       "      <td>...</td>\n",
       "      <td>...</td>\n",
       "      <td>...</td>\n",
       "    </tr>\n",
       "    <tr>\n",
       "      <th>7409</th>\n",
       "      <td>נשיא מדינת ישראל-תואר ש רובי ריבלין ראוי ל הוא...</td>\n",
       "      <td>0</td>\n",
       "      <td>2551</td>\n",
       "      <td>2</td>\n",
       "    </tr>\n",
       "    <tr>\n",
       "      <th>2024</th>\n",
       "      <td>ב סד נשמח ב ה שבוע . ה בא על אנחנו ל טובה לבר...</td>\n",
       "      <td>0</td>\n",
       "      <td>2552</td>\n",
       "      <td>2</td>\n",
       "    </tr>\n",
       "    <tr>\n",
       "      <th>3652</th>\n",
       "      <td>https://www.facebook.com/photo.php?fbid=454613...</td>\n",
       "      <td>2</td>\n",
       "      <td>2555</td>\n",
       "      <td>2</td>\n",
       "    </tr>\n",
       "    <tr>\n",
       "      <th>8133</th>\n",
       "      <td>ש כל עם ישראל יהיה גאה ב אתה ו ב ה משפחתך ה נה...</td>\n",
       "      <td>0</td>\n",
       "      <td>2556</td>\n",
       "      <td>2</td>\n",
       "    </tr>\n",
       "    <tr>\n",
       "      <th>7228</th>\n",
       "      <td>כבוד ה נשיא ה נבחר . התרגשתי אתמול מ נאומך ב ע...</td>\n",
       "      <td>0</td>\n",
       "      <td>2558</td>\n",
       "      <td>2</td>\n",
       "    </tr>\n",
       "  </tbody>\n",
       "</table>\n",
       "<p>8475 rows × 4 columns</p>\n",
       "</div>"
      ],
      "text/plain": [
       "                                                comment  label  index  type\n",
       "2602  ממש כואב ..... אני בכה את היא עם ה משפחה ש לא ...      0      0     0\n",
       "4787                                   איש יקר של אנחנו      0      1     0\n",
       "3095                           כל ה כבוד ו המון ב הצלחה      0      2     0\n",
       "3093   תל חי , רובי . ב כל ה עצב ה זה היית קרן אור ש...      0      3     0\n",
       "2579       נקי כפיים ו בר לבב ב הצלחה ל אתה ו ל אנחנו .      0      4     0\n",
       "...                                                 ...    ...    ...   ...\n",
       "7409  נשיא מדינת ישראל-תואר ש רובי ריבלין ראוי ל הוא...      0   2551     2\n",
       "2024   ב סד נשמח ב ה שבוע . ה בא על אנחנו ל טובה לבר...      0   2552     2\n",
       "3652  https://www.facebook.com/photo.php?fbid=454613...      2   2555     2\n",
       "8133  ש כל עם ישראל יהיה גאה ב אתה ו ב ה משפחתך ה נה...      0   2556     2\n",
       "7228  כבוד ה נשיא ה נבחר . התרגשתי אתמול מ נאומך ב ע...      0   2558     2\n",
       "\n",
       "[8475 rows x 4 columns]"
      ]
     },
     "execution_count": 16,
     "metadata": {},
     "output_type": "execute_result"
    }
   ],
   "source": [
    "def class2int(c):\n",
    "    d = {'dev': 1, 'train':0, 'test': 2}\n",
    "    return d[c]\n",
    "res_dedup['type'] = res_dedup['type'].apply(class2int) #\n",
    "res_dedup.sort_values(['type', 'index' ])"
   ]
  },
  {
   "cell_type": "code",
   "execution_count": 17,
   "metadata": {
    "pycharm": {
     "name": "#%%\n"
    }
   },
   "outputs": [],
   "source": [
    "res_dedup_soreted = res_dedup.sort_values(['type', 'index' ])"
   ]
  },
  {
   "cell_type": "code",
   "execution_count": 18,
   "metadata": {
    "pycharm": {
     "name": "#%%\n"
    }
   },
   "outputs": [],
   "source": [
    "res_dedup_soreted_to_split = res_dedup_soreted.reset_index(drop=True).filter(items=['comment','label'])"
   ]
  },
  {
   "cell_type": "code",
   "execution_count": 19,
   "metadata": {},
   "outputs": [
    {
     "data": {
      "text/html": [
       "<div>\n",
       "<style scoped>\n",
       "    .dataframe tbody tr th:only-of-type {\n",
       "        vertical-align: middle;\n",
       "    }\n",
       "\n",
       "    .dataframe tbody tr th {\n",
       "        vertical-align: top;\n",
       "    }\n",
       "\n",
       "    .dataframe thead th {\n",
       "        text-align: right;\n",
       "    }\n",
       "</style>\n",
       "<table border=\"1\" class=\"dataframe\">\n",
       "  <thead>\n",
       "    <tr style=\"text-align: right;\">\n",
       "      <th></th>\n",
       "      <th>comment</th>\n",
       "      <th>label</th>\n",
       "    </tr>\n",
       "  </thead>\n",
       "  <tbody>\n",
       "    <tr>\n",
       "      <th>0</th>\n",
       "      <td>ממש כואב ..... אני בכה את היא עם ה משפחה ש לא ...</td>\n",
       "      <td>0</td>\n",
       "    </tr>\n",
       "    <tr>\n",
       "      <th>1</th>\n",
       "      <td>איש יקר של אנחנו</td>\n",
       "      <td>0</td>\n",
       "    </tr>\n",
       "    <tr>\n",
       "      <th>2</th>\n",
       "      <td>כל ה כבוד ו המון ב הצלחה</td>\n",
       "      <td>0</td>\n",
       "    </tr>\n",
       "    <tr>\n",
       "      <th>3</th>\n",
       "      <td>תל חי , רובי . ב כל ה עצב ה זה היית קרן אור ש...</td>\n",
       "      <td>0</td>\n",
       "    </tr>\n",
       "    <tr>\n",
       "      <th>4</th>\n",
       "      <td>נקי כפיים ו בר לבב ב הצלחה ל אתה ו ל אנחנו .</td>\n",
       "      <td>0</td>\n",
       "    </tr>\n",
       "  </tbody>\n",
       "</table>\n",
       "</div>"
      ],
      "text/plain": [
       "                                             comment  label\n",
       "0  ממש כואב ..... אני בכה את היא עם ה משפחה ש לא ...      0\n",
       "1                                   איש יקר של אנחנו      0\n",
       "2                           כל ה כבוד ו המון ב הצלחה      0\n",
       "3   תל חי , רובי . ב כל ה עצב ה זה היית קרן אור ש...      0\n",
       "4       נקי כפיים ו בר לבב ב הצלחה ל אתה ו ל אנחנו .      0"
      ]
     },
     "execution_count": 19,
     "metadata": {},
     "output_type": "execute_result"
    }
   ],
   "source": [
    "res_dedup_soreted_to_split.head()"
   ]
  },
  {
   "cell_type": "code",
   "execution_count": 21,
   "metadata": {
    "pycharm": {
     "name": "#%%\n"
    }
   },
   "outputs": [],
   "source": [
    "import numpy as np\n",
    "def train_validate_test_split(df, train_percent=.7, validate_percent=.1, seed=None):\n",
    "    m = len(df.index)\n",
    "    train_end = int(train_percent * m)\n",
    "    validate_end = int(validate_percent * m) + train_end\n",
    "    train = df.iloc[df.index[:train_end]]\n",
    "    validate = df.iloc[df.index[train_end:validate_end]]\n",
    "    test = df.iloc[df.index[validate_end:]]\n",
    "    return train, validate, test"
   ]
  },
  {
   "cell_type": "code",
   "execution_count": 22,
   "metadata": {
    "pycharm": {
     "name": "#%%\n"
    }
   },
   "outputs": [],
   "source": [
    "train, validate, test = train_validate_test_split(res_dedup_soreted_to_split)"
   ]
  },
  {
   "cell_type": "code",
   "execution_count": 23,
   "metadata": {},
   "outputs": [
    {
     "data": {
      "text/html": [
       "<div>\n",
       "<style scoped>\n",
       "    .dataframe tbody tr th:only-of-type {\n",
       "        vertical-align: middle;\n",
       "    }\n",
       "\n",
       "    .dataframe tbody tr th {\n",
       "        vertical-align: top;\n",
       "    }\n",
       "\n",
       "    .dataframe thead th {\n",
       "        text-align: right;\n",
       "    }\n",
       "</style>\n",
       "<table border=\"1\" class=\"dataframe\">\n",
       "  <thead>\n",
       "    <tr style=\"text-align: right;\">\n",
       "      <th></th>\n",
       "      <th>comment</th>\n",
       "      <th>label</th>\n",
       "    </tr>\n",
       "  </thead>\n",
       "  <tbody>\n",
       "    <tr>\n",
       "      <th>0</th>\n",
       "      <td>ממש כואב ..... אני בכה את היא עם ה משפחה ש לא ...</td>\n",
       "      <td>0</td>\n",
       "    </tr>\n",
       "    <tr>\n",
       "      <th>1</th>\n",
       "      <td>איש יקר של אנחנו</td>\n",
       "      <td>0</td>\n",
       "    </tr>\n",
       "    <tr>\n",
       "      <th>2</th>\n",
       "      <td>כל ה כבוד ו המון ב הצלחה</td>\n",
       "      <td>0</td>\n",
       "    </tr>\n",
       "    <tr>\n",
       "      <th>3</th>\n",
       "      <td>תל חי , רובי . ב כל ה עצב ה זה היית קרן אור ש...</td>\n",
       "      <td>0</td>\n",
       "    </tr>\n",
       "    <tr>\n",
       "      <th>4</th>\n",
       "      <td>נקי כפיים ו בר לבב ב הצלחה ל אתה ו ל אנחנו .</td>\n",
       "      <td>0</td>\n",
       "    </tr>\n",
       "    <tr>\n",
       "      <th>...</th>\n",
       "      <td>...</td>\n",
       "      <td>...</td>\n",
       "    </tr>\n",
       "    <tr>\n",
       "      <th>5927</th>\n",
       "      <td>ישששששששששששששששש ב שעה טובה איש מדהים איש אמת...</td>\n",
       "      <td>0</td>\n",
       "    </tr>\n",
       "    <tr>\n",
       "      <th>5928</th>\n",
       "      <td>יחי יחי נשיא מדינת ישראל רובי רבלין.אנא מ ימך ...</td>\n",
       "      <td>0</td>\n",
       "    </tr>\n",
       "    <tr>\n",
       "      <th>5929</th>\n",
       "      <td>צודקת סליחה התכוונתי ב שם ה יהודים ה שפווים ש ...</td>\n",
       "      <td>1</td>\n",
       "    </tr>\n",
       "    <tr>\n",
       "      <th>5930</th>\n",
       "      <td>מתבייש ב אתה ש את היא ה נשיא של אני . חשבתי ש ...</td>\n",
       "      <td>1</td>\n",
       "    </tr>\n",
       "    <tr>\n",
       "      <th>5931</th>\n",
       "      <td>מזל טוב ל ה עם ישראל ש ה נשיא ה עשירי ש נבחר ה...</td>\n",
       "      <td>0</td>\n",
       "    </tr>\n",
       "  </tbody>\n",
       "</table>\n",
       "<p>5932 rows × 2 columns</p>\n",
       "</div>"
      ],
      "text/plain": [
       "                                                comment  label\n",
       "0     ממש כואב ..... אני בכה את היא עם ה משפחה ש לא ...      0\n",
       "1                                      איש יקר של אנחנו      0\n",
       "2                              כל ה כבוד ו המון ב הצלחה      0\n",
       "3      תל חי , רובי . ב כל ה עצב ה זה היית קרן אור ש...      0\n",
       "4          נקי כפיים ו בר לבב ב הצלחה ל אתה ו ל אנחנו .      0\n",
       "...                                                 ...    ...\n",
       "5927  ישששששששששששששששש ב שעה טובה איש מדהים איש אמת...      0\n",
       "5928  יחי יחי נשיא מדינת ישראל רובי רבלין.אנא מ ימך ...      0\n",
       "5929  צודקת סליחה התכוונתי ב שם ה יהודים ה שפווים ש ...      1\n",
       "5930  מתבייש ב אתה ש את היא ה נשיא של אני . חשבתי ש ...      1\n",
       "5931  מזל טוב ל ה עם ישראל ש ה נשיא ה עשירי ש נבחר ה...      0\n",
       "\n",
       "[5932 rows x 2 columns]"
      ]
     },
     "execution_count": 23,
     "metadata": {},
     "output_type": "execute_result"
    }
   ],
   "source": [
    "train"
   ]
  },
  {
   "cell_type": "code",
   "execution_count": 24,
   "metadata": {},
   "outputs": [
    {
     "name": "stdout",
     "output_type": "stream",
     "text": [
      "5932\n",
      "847\n",
      "1696\n"
     ]
    }
   ],
   "source": [
    "print(len(train))\n",
    "print(len(validate))\n",
    "print(len(test))"
   ]
  },
  {
   "cell_type": "code",
   "execution_count": 25,
   "metadata": {},
   "outputs": [],
   "source": [
    "assert len(test[test['comment'].str.contains(\"\\t\")]) ==  0"
   ]
  },
  {
   "cell_type": "code",
   "execution_count": 27,
   "metadata": {
    "pycharm": {
     "name": "#%%\n"
    }
   },
   "outputs": [],
   "source": [
    "train.to_csv(fr'{data_format}\\train.tsv', sep='\\t', index=False, encoding='utf-8')\n",
    "validate.to_csv(fr'{data_format}\\dev.tsv', sep='\\t', index=False, encoding='utf-8')\n",
    "test.to_csv(fr'{data_format}\\test.tsv', sep='\\t', index=False, encoding='utf-8')\n"
   ]
  },
  {
   "cell_type": "code",
   "execution_count": null,
   "metadata": {},
   "outputs": [],
   "source": []
  }
 ],
 "metadata": {
  "kernelspec": {
   "display_name": "aleph",
   "language": "python",
   "name": "aleph"
  },
  "language_info": {
   "codemirror_mode": {
    "name": "ipython",
    "version": 3
   },
   "file_extension": ".py",
   "mimetype": "text/x-python",
   "name": "python",
   "nbconvert_exporter": "python",
   "pygments_lexer": "ipython3",
   "version": "3.8.5"
  }
 },
 "nbformat": 4,
 "nbformat_minor": 1
}
